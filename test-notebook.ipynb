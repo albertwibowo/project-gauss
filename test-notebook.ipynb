{
 "cells": [
  {
   "cell_type": "code",
   "execution_count": 1,
   "metadata": {},
   "outputs": [],
   "source": [
    "import gzip\n",
    "from src.distance_metrics.ncd_metric import calculate_ncd\n",
    "from src.distance_metrics.ncd_metric import NcdMetric\n",
    "from src.algorithms.knn_compressor import KnnCompressor"
   ]
  },
  {
   "cell_type": "code",
   "execution_count": 47,
   "metadata": {},
   "outputs": [],
   "source": [
    "cx1 = 10\n",
    "cx2 = 13\n",
    "cx1cx2 = 20"
   ]
  },
  {
   "cell_type": "code",
   "execution_count": 48,
   "metadata": {},
   "outputs": [
    {
     "data": {
      "text/plain": [
       "0.7692307692307693"
      ]
     },
     "execution_count": 48,
     "metadata": {},
     "output_type": "execute_result"
    }
   ],
   "source": [
    "calculate_ncd(cx1=cx1, cx2=cx2, cx1cx2=cx1cx2)\n",
    "# Ncd.calculate(cx1=cx1, cx2=cx2, cx1cx2=cx1cx2)"
   ]
  },
  {
   "cell_type": "code",
   "execution_count": 21,
   "metadata": {},
   "outputs": [],
   "source": [
    "text = 'Hello, I am coding a quick streamlit application'\n",
    "text2 = 'Streamlit is a good python application'\n",
    "text3 = 'I like Arsenal football team'"
   ]
  },
  {
   "cell_type": "code",
   "execution_count": 26,
   "metadata": {},
   "outputs": [
    {
     "name": "stdout",
     "output_type": "stream",
     "text": [
      "68 58 48\n"
     ]
    }
   ],
   "source": [
    "cx1 = len(gzip.compress(text.encode()))\n",
    "cx2 = len(gzip.compress(text2.encode()))\n",
    "cx3 = len(gzip.compress(text3.encode()))\n",
    "\n",
    "# x1x2 = \" \".join([text, text2])\n",
    "# x1x3 = \" \".join([text, text3])\n",
    "# x2x3 = \" \".join([text2, text3])\n",
    "\n",
    "x1x2 = \" \".join([text2, text])\n",
    "x1x3 = \" \".join([text3, text])\n",
    "x2x3 = \" \".join([text3, text2])\n",
    "\n",
    "cx1x2 = len(gzip.compress(x1x2.encode()))\n",
    "cx1x3 = len(gzip.compress(x1x3.encode()))\n",
    "cx2x3 = len(gzip.compress(x2x3.encode()))\n",
    "\n",
    "\n",
    "print(cx1, cx2, cx3)"
   ]
  },
  {
   "cell_type": "code",
   "execution_count": 27,
   "metadata": {},
   "outputs": [
    {
     "data": {
      "text/plain": [
       "0.45588235294117646"
      ]
     },
     "execution_count": 27,
     "metadata": {},
     "output_type": "execute_result"
    }
   ],
   "source": [
    "calculate_ncd(cx1=cx1, cx2=cx2, cx1cx2=cx1x2)"
   ]
  },
  {
   "cell_type": "code",
   "execution_count": 28,
   "metadata": {},
   "outputs": [
    {
     "data": {
      "text/plain": [
       "0.5588235294117647"
      ]
     },
     "execution_count": 28,
     "metadata": {},
     "output_type": "execute_result"
    }
   ],
   "source": [
    "calculate_ncd(cx1=cx1, cx2=cx3, cx1cx2=cx1x3)"
   ]
  },
  {
   "cell_type": "code",
   "execution_count": 29,
   "metadata": {},
   "outputs": [
    {
     "data": {
      "text/plain": [
       "0.5517241379310345"
      ]
     },
     "execution_count": 29,
     "metadata": {},
     "output_type": "execute_result"
    }
   ],
   "source": [
    "calculate_ncd(cx1=cx2, cx2=cx3, cx1cx2=cx2x3)"
   ]
  },
  {
   "cell_type": "code",
   "execution_count": 36,
   "metadata": {},
   "outputs": [
    {
     "data": {
      "text/plain": [
       "103"
      ]
     },
     "execution_count": 36,
     "metadata": {},
     "output_type": "execute_result"
    }
   ],
   "source": [
    "import bz2\n",
    "import lzma \n",
    "# import zstd\n",
    "\n",
    "len(bz2.compress(x1x2.encode()))"
   ]
  },
  {
   "cell_type": "code",
   "execution_count": 37,
   "metadata": {},
   "outputs": [
    {
     "data": {
      "text/plain": [
       "132"
      ]
     },
     "execution_count": 37,
     "metadata": {},
     "output_type": "execute_result"
    }
   ],
   "source": [
    "compressor = lzma \n",
    "len(compressor.compress(x1x2.encode()))"
   ]
  },
  {
   "cell_type": "code",
   "execution_count": 2,
   "metadata": {},
   "outputs": [],
   "source": [
    "import pandas as pd \n",
    "import numpy as np \n",
    "train = pd.read_csv('./src/data/train.csv')\n",
    "test = pd.read_csv('./src/data/test.csv')"
   ]
  },
  {
   "cell_type": "code",
   "execution_count": 3,
   "metadata": {},
   "outputs": [
    {
     "data": {
      "text/plain": [
       "Index(['Class Index', 'Title', 'Description'], dtype='object')"
      ]
     },
     "execution_count": 3,
     "metadata": {},
     "output_type": "execute_result"
    }
   ],
   "source": [
    "train.columns"
   ]
  },
  {
   "cell_type": "code",
   "execution_count": 4,
   "metadata": {},
   "outputs": [],
   "source": [
    "train_arrays = np.array(train[['Description', 'Class Index']])\n",
    "test_arrays = np.array(test[['Description', 'Class Index']])\n",
    "to_predict_arrays = np.array(test[['Description', 'Class Index']])"
   ]
  },
  {
   "cell_type": "code",
   "execution_count": 5,
   "metadata": {},
   "outputs": [],
   "source": [
    "algo = KnnCompressor(compressor=gzip,\n",
    "                     distance_metric=NcdMetric,\n",
    "                     train_array=train_arrays,\n",
    "                     test_array=test_arrays,\n",
    "                     to_predict_array=to_predict_arrays)"
   ]
  },
  {
   "cell_type": "code",
   "execution_count": 6,
   "metadata": {},
   "outputs": [
    {
     "ename": "KeyboardInterrupt",
     "evalue": "",
     "output_type": "error",
     "traceback": [
      "\u001b[0;31m---------------------------------------------------------------------------\u001b[0m",
      "\u001b[0;31mKeyboardInterrupt\u001b[0m                         Traceback (most recent call last)",
      "Cell \u001b[0;32mIn[6], line 1\u001b[0m\n\u001b[0;32m----> 1\u001b[0m algo\u001b[39m.\u001b[39;49mrun()\n",
      "File \u001b[0;32m~/Documents/personal-projects/project-gauss/src/algorithms/knn_compressor.py:34\u001b[0m, in \u001b[0;36mKnnCompressor.run\u001b[0;34m(self)\u001b[0m\n\u001b[1;32m     32\u001b[0m cx2 \u001b[39m=\u001b[39m \u001b[39mlen\u001b[39m(\u001b[39mself\u001b[39m\u001b[39m.\u001b[39mcompressor\u001b[39m.\u001b[39mcompress(x2\u001b[39m.\u001b[39mencode())) \n\u001b[1;32m     33\u001b[0m x1x2 \u001b[39m=\u001b[39m \u001b[39m\"\u001b[39m\u001b[39m \u001b[39m\u001b[39m\"\u001b[39m\u001b[39m.\u001b[39mjoin([x1, x2])\n\u001b[0;32m---> 34\u001b[0m cx1x2 \u001b[39m=\u001b[39m \u001b[39mlen\u001b[39m(\u001b[39mself\u001b[39m\u001b[39m.\u001b[39mcompressor\u001b[39m.\u001b[39mcompress(x1x2\u001b[39m.\u001b[39mencode()))\n\u001b[1;32m     35\u001b[0m ncd \u001b[39m=\u001b[39m calculate_ncd(cx1\u001b[39m=\u001b[39mcx1, cx2\u001b[39m=\u001b[39mcx2, cx1cx2\u001b[39m=\u001b[39mcx1x2)\n\u001b[1;32m     36\u001b[0m distance_from_x1\u001b[39m.\u001b[39mappend(ncd) \n",
      "File \u001b[0;32m~/miniconda3/lib/python3.10/gzip.py:548\u001b[0m, in \u001b[0;36mcompress\u001b[0;34m(data, compresslevel, mtime)\u001b[0m\n\u001b[1;32m    544\u001b[0m \u001b[39m\u001b[39m\u001b[39m\"\"\"Compress data in one shot and return the compressed string.\u001b[39;00m\n\u001b[1;32m    545\u001b[0m \u001b[39mOptional argument is the compression level, in range of 0-9.\u001b[39;00m\n\u001b[1;32m    546\u001b[0m \u001b[39m\"\"\"\u001b[39;00m\n\u001b[1;32m    547\u001b[0m buf \u001b[39m=\u001b[39m io\u001b[39m.\u001b[39mBytesIO()\n\u001b[0;32m--> 548\u001b[0m \u001b[39mwith\u001b[39;00m GzipFile(fileobj\u001b[39m=\u001b[39mbuf, mode\u001b[39m=\u001b[39m\u001b[39m'\u001b[39m\u001b[39mwb\u001b[39m\u001b[39m'\u001b[39m, compresslevel\u001b[39m=\u001b[39mcompresslevel, mtime\u001b[39m=\u001b[39mmtime) \u001b[39mas\u001b[39;00m f:\n\u001b[1;32m    549\u001b[0m     f\u001b[39m.\u001b[39mwrite(data)\n\u001b[1;32m    550\u001b[0m \u001b[39mreturn\u001b[39;00m buf\u001b[39m.\u001b[39mgetvalue()\n",
      "File \u001b[0;32m~/miniconda3/lib/python3.10/gzip.py:334\u001b[0m, in \u001b[0;36mGzipFile.close\u001b[0;34m(self)\u001b[0m\n\u001b[1;32m    332\u001b[0m \u001b[39mtry\u001b[39;00m:\n\u001b[1;32m    333\u001b[0m     \u001b[39mif\u001b[39;00m \u001b[39mself\u001b[39m\u001b[39m.\u001b[39mmode \u001b[39m==\u001b[39m WRITE:\n\u001b[0;32m--> 334\u001b[0m         fileobj\u001b[39m.\u001b[39mwrite(\u001b[39mself\u001b[39;49m\u001b[39m.\u001b[39;49mcompress\u001b[39m.\u001b[39;49mflush())\n\u001b[1;32m    335\u001b[0m         write32u(fileobj, \u001b[39mself\u001b[39m\u001b[39m.\u001b[39mcrc)\n\u001b[1;32m    336\u001b[0m         \u001b[39m# self.size may exceed 2 GiB, or even 4 GiB\u001b[39;00m\n",
      "\u001b[0;31mKeyboardInterrupt\u001b[0m: "
     ]
    }
   ],
   "source": [
    "algo.run()"
   ]
  },
  {
   "cell_type": "code",
   "execution_count": null,
   "metadata": {},
   "outputs": [],
   "source": []
  }
 ],
 "metadata": {
  "kernelspec": {
   "display_name": ".venv",
   "language": "python",
   "name": "python3"
  },
  "language_info": {
   "codemirror_mode": {
    "name": "ipython",
    "version": 3
   },
   "file_extension": ".py",
   "mimetype": "text/x-python",
   "name": "python",
   "nbconvert_exporter": "python",
   "pygments_lexer": "ipython3",
   "version": "3.10.8"
  },
  "orig_nbformat": 4
 },
 "nbformat": 4,
 "nbformat_minor": 2
}
