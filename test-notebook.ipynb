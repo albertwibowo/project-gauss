{
 "cells": [
  {
   "cell_type": "code",
   "execution_count": 46,
   "metadata": {},
   "outputs": [],
   "source": [
    "import gzip\n",
    "from src.distance_metrics.ncd_metric import calculate_ncd"
   ]
  },
  {
   "cell_type": "code",
   "execution_count": 47,
   "metadata": {},
   "outputs": [],
   "source": [
    "cx1 = 10\n",
    "cx2 = 13\n",
    "cx1cx2 = 20"
   ]
  },
  {
   "cell_type": "code",
   "execution_count": 48,
   "metadata": {},
   "outputs": [
    {
     "data": {
      "text/plain": [
       "0.7692307692307693"
      ]
     },
     "execution_count": 48,
     "metadata": {},
     "output_type": "execute_result"
    }
   ],
   "source": [
    "calculate_ncd(cx1=cx1, cx2=cx2, cx1cx2=cx1cx2)\n",
    "# Ncd.calculate(cx1=cx1, cx2=cx2, cx1cx2=cx1cx2)"
   ]
  },
  {
   "cell_type": "code",
   "execution_count": 21,
   "metadata": {},
   "outputs": [],
   "source": [
    "text = 'Hello, I am coding a quick streamlit application'\n",
    "text2 = 'Streamlit is a good python application'\n",
    "text3 = 'I like Arsenal football team'"
   ]
  },
  {
   "cell_type": "code",
   "execution_count": 26,
   "metadata": {},
   "outputs": [
    {
     "name": "stdout",
     "output_type": "stream",
     "text": [
      "68 58 48\n"
     ]
    }
   ],
   "source": [
    "cx1 = len(gzip.compress(text.encode()))\n",
    "cx2 = len(gzip.compress(text2.encode()))\n",
    "cx3 = len(gzip.compress(text3.encode()))\n",
    "\n",
    "# x1x2 = \" \".join([text, text2])\n",
    "# x1x3 = \" \".join([text, text3])\n",
    "# x2x3 = \" \".join([text2, text3])\n",
    "\n",
    "x1x2 = \" \".join([text2, text])\n",
    "x1x3 = \" \".join([text3, text])\n",
    "x2x3 = \" \".join([text3, text2])\n",
    "\n",
    "cx1x2 = len(gzip.compress(x1x2.encode()))\n",
    "cx1x3 = len(gzip.compress(x1x3.encode()))\n",
    "cx2x3 = len(gzip.compress(x2x3.encode()))\n",
    "\n",
    "\n",
    "print(cx1, cx2, cx3)"
   ]
  },
  {
   "cell_type": "code",
   "execution_count": 27,
   "metadata": {},
   "outputs": [
    {
     "data": {
      "text/plain": [
       "0.45588235294117646"
      ]
     },
     "execution_count": 27,
     "metadata": {},
     "output_type": "execute_result"
    }
   ],
   "source": [
    "calculate_ncd(cx1=cx1, cx2=cx2, cx1cx2=cx1x2)"
   ]
  },
  {
   "cell_type": "code",
   "execution_count": 28,
   "metadata": {},
   "outputs": [
    {
     "data": {
      "text/plain": [
       "0.5588235294117647"
      ]
     },
     "execution_count": 28,
     "metadata": {},
     "output_type": "execute_result"
    }
   ],
   "source": [
    "calculate_ncd(cx1=cx1, cx2=cx3, cx1cx2=cx1x3)"
   ]
  },
  {
   "cell_type": "code",
   "execution_count": 29,
   "metadata": {},
   "outputs": [
    {
     "data": {
      "text/plain": [
       "0.5517241379310345"
      ]
     },
     "execution_count": 29,
     "metadata": {},
     "output_type": "execute_result"
    }
   ],
   "source": [
    "calculate_ncd(cx1=cx2, cx2=cx3, cx1cx2=cx2x3)"
   ]
  },
  {
   "cell_type": "code",
   "execution_count": 36,
   "metadata": {},
   "outputs": [
    {
     "data": {
      "text/plain": [
       "103"
      ]
     },
     "execution_count": 36,
     "metadata": {},
     "output_type": "execute_result"
    }
   ],
   "source": [
    "import bz2\n",
    "import lzma \n",
    "# import zstd\n",
    "\n",
    "len(bz2.compress(x1x2.encode()))"
   ]
  },
  {
   "cell_type": "code",
   "execution_count": 37,
   "metadata": {},
   "outputs": [
    {
     "data": {
      "text/plain": [
       "132"
      ]
     },
     "execution_count": 37,
     "metadata": {},
     "output_type": "execute_result"
    }
   ],
   "source": [
    "compressor = lzma \n",
    "len(compressor.compress(x1x2.encode()))"
   ]
  },
  {
   "cell_type": "code",
   "execution_count": 42,
   "metadata": {},
   "outputs": [],
   "source": [
    "from src.abstract.distance_base import DistanceBase\n"
   ]
  },
  {
   "cell_type": "code",
   "execution_count": null,
   "metadata": {},
   "outputs": [],
   "source": []
  }
 ],
 "metadata": {
  "kernelspec": {
   "display_name": ".venv",
   "language": "python",
   "name": "python3"
  },
  "language_info": {
   "codemirror_mode": {
    "name": "ipython",
    "version": 3
   },
   "file_extension": ".py",
   "mimetype": "text/x-python",
   "name": "python",
   "nbconvert_exporter": "python",
   "pygments_lexer": "ipython3",
   "version": "3.10.8"
  },
  "orig_nbformat": 4
 },
 "nbformat": 4,
 "nbformat_minor": 2
}
