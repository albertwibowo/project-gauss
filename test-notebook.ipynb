{
 "cells": [
  {
   "cell_type": "code",
   "execution_count": 1,
   "metadata": {},
   "outputs": [],
   "source": [
    "import gzip\n",
    "from src.distance_metrics.ncd_metric import calculate_ncd\n",
    "from src.algorithms.knn_compressor import KnnCompressor\n",
    "from src.algorithms.ce_compressor import CeCompressor"
   ]
  },
  {
   "cell_type": "code",
   "execution_count": 2,
   "metadata": {},
   "outputs": [],
   "source": [
    "cx1 = 10\n",
    "cx2 = 13\n",
    "cx1cx2 = 20"
   ]
  },
  {
   "cell_type": "code",
   "execution_count": 3,
   "metadata": {},
   "outputs": [
    {
     "data": {
      "text/plain": [
       "0.7692307692307693"
      ]
     },
     "execution_count": 3,
     "metadata": {},
     "output_type": "execute_result"
    }
   ],
   "source": [
    "calculate_ncd(cx1=cx1, cx2=cx2, cx1cx2=cx1cx2)\n",
    "# Ncd.calculate(cx1=cx1, cx2=cx2, cx1cx2=cx1cx2)"
   ]
  },
  {
   "cell_type": "code",
   "execution_count": 4,
   "metadata": {},
   "outputs": [],
   "source": [
    "text = 'Hello, I am coding a quick streamlit application'\n",
    "text2 = 'Streamlit is a good python application'\n",
    "text3 = 'I like Arsenal football team'"
   ]
  },
  {
   "cell_type": "code",
   "execution_count": 5,
   "metadata": {},
   "outputs": [
    {
     "name": "stdout",
     "output_type": "stream",
     "text": [
      "68 58 48\n"
     ]
    }
   ],
   "source": [
    "cx1 = len(gzip.compress(text.encode()))\n",
    "cx2 = len(gzip.compress(text2.encode()))\n",
    "cx3 = len(gzip.compress(text3.encode()))\n",
    "\n",
    "# x1x2 = \" \".join([text, text2])\n",
    "# x1x3 = \" \".join([text, text3])\n",
    "# x2x3 = \" \".join([text2, text3])\n",
    "\n",
    "x1x2 = \" \".join([text2, text])\n",
    "x1x3 = \" \".join([text3, text])\n",
    "x2x3 = \" \".join([text3, text2])\n",
    "\n",
    "cx1x2 = len(gzip.compress(x1x2.encode()))\n",
    "cx1x3 = len(gzip.compress(x1x3.encode()))\n",
    "cx2x3 = len(gzip.compress(x2x3.encode()))\n",
    "\n",
    "\n",
    "print(cx1, cx2, cx3)"
   ]
  },
  {
   "cell_type": "code",
   "execution_count": 6,
   "metadata": {},
   "outputs": [
    {
     "data": {
      "text/plain": [
       "0.45588235294117646"
      ]
     },
     "execution_count": 6,
     "metadata": {},
     "output_type": "execute_result"
    }
   ],
   "source": [
    "calculate_ncd(cx1=cx1, cx2=cx2, cx1cx2=cx1x2)"
   ]
  },
  {
   "cell_type": "code",
   "execution_count": 7,
   "metadata": {},
   "outputs": [
    {
     "data": {
      "text/plain": [
       "0.5588235294117647"
      ]
     },
     "execution_count": 7,
     "metadata": {},
     "output_type": "execute_result"
    }
   ],
   "source": [
    "calculate_ncd(cx1=cx1, cx2=cx3, cx1cx2=cx1x3)"
   ]
  },
  {
   "cell_type": "code",
   "execution_count": 8,
   "metadata": {},
   "outputs": [
    {
     "data": {
      "text/plain": [
       "0.5517241379310345"
      ]
     },
     "execution_count": 8,
     "metadata": {},
     "output_type": "execute_result"
    }
   ],
   "source": [
    "calculate_ncd(cx1=cx2, cx2=cx3, cx1cx2=cx2x3)"
   ]
  },
  {
   "cell_type": "code",
   "execution_count": 8,
   "metadata": {},
   "outputs": [],
   "source": [
    "import bz2\n",
    "import lzma \n",
    "# import zstd\n",
    "\n",
    "# len(bz2.compress(x1x2.encode()))"
   ]
  },
  {
   "cell_type": "code",
   "execution_count": 10,
   "metadata": {},
   "outputs": [
    {
     "data": {
      "text/plain": [
       "132"
      ]
     },
     "execution_count": 10,
     "metadata": {},
     "output_type": "execute_result"
    }
   ],
   "source": [
    "compressor = lzma \n",
    "len(compressor.compress(x1x2.encode()))"
   ]
  },
  {
   "cell_type": "code",
   "execution_count": 6,
   "metadata": {},
   "outputs": [],
   "source": [
    "import pandas as pd \n",
    "import numpy as np \n",
    "train = pd.read_csv('./src/data/train.csv')\n",
    "test = pd.read_csv('./src/data/test.csv')"
   ]
  },
  {
   "cell_type": "code",
   "execution_count": null,
   "metadata": {},
   "outputs": [],
   "source": []
  },
  {
   "cell_type": "code",
   "execution_count": 3,
   "metadata": {},
   "outputs": [],
   "source": [
    "train = train.sample(frac=0.01)\n",
    "test = test.sample(frac=0.01)"
   ]
  },
  {
   "cell_type": "code",
   "execution_count": 3,
   "metadata": {},
   "outputs": [
    {
     "data": {
      "text/plain": [
       "Class Index\n",
       "1    19\n",
       "2    19\n",
       "3    19\n",
       "4    19\n",
       "dtype: int64"
      ]
     },
     "execution_count": 3,
     "metadata": {},
     "output_type": "execute_result"
    }
   ],
   "source": [
    "test_df = test.groupby('Class Index').apply(lambda x: x.sample(frac=0.01)).reset_index(drop = True)\n",
    "test_df.groupby('Class Index').size()"
   ]
  },
  {
   "cell_type": "code",
   "execution_count": 11,
   "metadata": {},
   "outputs": [
    {
     "data": {
      "text/plain": [
       "4"
      ]
     },
     "execution_count": 11,
     "metadata": {},
     "output_type": "execute_result"
    }
   ],
   "source": [
    "ts_list = [d for _, d in test_df.groupby('Class Index')]\n",
    "full_txt_list = [' '.join(df[\"Description\"]) for df in ts_list]\n",
    "len(full_txt_list)"
   ]
  },
  {
   "cell_type": "code",
   "execution_count": 14,
   "metadata": {},
   "outputs": [
    {
     "data": {
      "text/plain": [
       "'Nigerian rebel leader Mujahid Dokubo-Asari said he arrived in the capital Abuja on Wednesday for talks with President Olusegun Obasanjo after his group threatened a new offensive against troops in the oil-producing Niger delta and Suspected Maoist rebels kidnap a judge and a former adviser to the late king, Nepalese police say.Pakistani troops in Waziristan begin a new search for Islamic militants, among them a former US detainee.KATHMANDU: Nepali troops killed at least 21 Maoist rebels and lost 13 soldiers in gunbattles across the Himalayan kingdom, officials said yesterday.Canadian Press - THE HAGUE, Netherlands (AP) - A bombing before dawn Monday blew the front door off a Muslim elementary school in a southern town and extensively damaged the building in what police suspect was a revenge attack for the killing of a Dutch filmmaker last week.Reuters - Drunken revelers at the world\\'s\\\\biggest beer festival this year can purchase a stiff linguistic\\\\pick me-up for when their brains get addled -- a beer and\\\\mustard proof guide to Bavarian slang.A videotape shows a huge supply of explosives still at Al Qaqaa munitions complex nine days after the fall of Baghdad. PATTANI, Thailand (Reuters) - Bomb blasts rocked southern  Thailand on Friday as Prime Minister Thaksin Shinawatra  promised to get to the bottom of the deaths of 78 Muslims in  military custody and punish any \"wrongdoers.\"NEW YORK - Stocks were modestly lower in Friday as investors sorted through an uninspiring employment report and Intel Corp.\\'s weak profit outlook hit technology shares hard.    Investors were satisfied with - but not impressed by - the Labor Department\\'s latest reading on unemployment, which fell to 5.4 percent from 5.5 percent in July, and the 144,000 jobs created in August was close to the 150,000 Wall Street had expected...PRIME Minister John Howard said he would not be swayed by more public servants coming forward in relation to the children overboard scandal. Palestinians pray at the grave of leader Yasser Arafat at the Muqataa, Arafat #39;s destroyed headquarters, in the West Bank town of Ramallah Nov. 15. BAGHDAD (Reuters) - A militant Iraqi group said it had  killed 12 Nepali hostages and showed pictures of one being  beheaded and others being shot dead, the worst mass killing of  captives since a wave of kidnappings erupted in April.CARACAS, Venezuela - President Hugo Chavez appeared to have survived a popular referendum to oust him, according to early results Monday, while Venezuela\\'s opposition swiftly claimed fraud.    Backers of the leftist populist president set off fireworks and began celebrating in the streets of the capital in the pre-dawn darkness upon hearing the news from Francisco Carrasquero, president of the National Elections Council...France #39;s interior minister demanded Sunday the release of two French journalists believed kidnapped by Islamic militants in Iraq.Prime Minister Ariel Sharon has betrayed his Likud Party, a longtime senior ally wrote to thousands of party faithful Thursday, but the rebuke over the Gaza withdrawal was unlikely SOFIA, Bulgaria -- The United States and Russia clashed yesterday at a European security forum over the crisis of Ukraine\\'s disputed election, elevating an increasingly tense debate over democracy in former Soviet republics.China #39;s population, already the largest in the world, will peak at 1.46 billion in 30 years, straining the country #39;s healthcare system, putting pressure on jobs, and gobbling up a greater share of the world #39;s food and energy resources.PITCAIRN ISLAND Half the men on remote Pitcairn Island, which is populated by descendants of the Bounty mutineers, go on trial Wednesday over a string of alleged sex attacks dating back up to 40 years.An Israeli child was killed by a rocket fired from the Gaza Strip by Palestinian militants on Wednesday, an Israeli rescue service said.The UN Security Council adopted a resolution on Saturday that threatens oil sanctions against Sudan if Khartoum does not stop atrocities in the Darfur region.Reuters - A militant leader survived an Israeli\\\\missile strike on his car in Gaza on Thursday in Israel\\'s first\\\\assassination attempt in the Palestinian territories since\\\\Yasser Arafat died in a Paris hospital.RAMSTEIN, Germany The largest US military hospital overseas has had to add beds to handle the number of wounded soldiers coming in from Iraq.TOKYO Aid to Iraq should be disbursed faster, Iraqi companies should get priority for contracts, and projects should be focused on bolstering parliamentary elections that are to be held in January, Iraqis and donor representatives agreed on Thursday at Namibian voters are casting their ballots in the nation #39;s presidential and parliamentary elections. In Windhoek, people started arriving at the polling stations as early as 5am today.EIGHT bodies were pulled from an underground tunnel in a copper mine in northern Turkey where a massive fire broke out today, local officials said.AP - President Bush\\'s choice to head the Republican Party said Monday he hopes to extend the GOP\\'s grip on power in Washington.Thailand #39;s Prime Minister Thaksin Shinawatra says Burma #39;s government intends to carry out democratic reforms, despite a leadership shakeup that strengthened the power of hard-line generals.In some of the worst violence in recent weeks in Baghdad, insurgents launched attacks Friday against Iraqi security forces in the north and west of the capital, killing at least 30 people.As an interpreter for the US Army, Khalid Ahmed faces constant taunts and death threats from fellow Iraqis.After a month of suspension, the Sudanese government and Darfur rebel groups are due to formally restart negotiations on Monday in Nigeria in the hope of ending a 20-month-old  DAMASCUS (Reuters) - A Syrian court has agreed to release  on bail a prominent rights activist who faces trial on charges  of tarnishing the image of the Arab state by publishing false  information, one of his lawyers said Monday.Ahmed Qureia, the Palestinian prime minister, today broke with calls for a ceasefire and said that Hamas would be  quot;justified quot; in taking revenge for an Israeli airstrike that killed 14 of its activists.Ghanaians went to the polls yesterday to elect a new President and members of Parliament with former President Jerry Rawlings accusing Nigerian President Olusegun Obasanjo of undue interference in the electoral process.AP - Russia\\'s natural resources minister said Friday that he thought his ministry would give the main production unit of the battered Yukos oil company a three-month warning before pulling its drilling licenses, the Interfax news agency reported.ISLAMABAD, Pakistan -- An explosion ripped through a Shiite Muslim mosque in the eastern Pakistani city of Sialkot during Friday prayers, killing several people and injuring dozens of others, wire reports say.Israel #39;s Security Cabinet has approved a compensation package for Jewish settlers who will be removed from the Gaza Strip under the government #39;s pull-out plan. UNITED NATIONS (Reuters) - The U.N. Security Council  adopted a resolution on Saturday threatening Sudan with  sanctions if it did not stop atrocities in the western Darfur  region where Arab militias are terrorizing African villagers.VIENTIANE (AFP): Thailand #39;s prime minister will meet the leaders of Malaysia and Indonesia on Sunday to explain his refusal to allow a major summit here to broach Muslim unrest in his country, an official said.European Commission President Romano Prodi urged US President George W. Bush to use his second term to promote collective security #39; #39; after the transatlantic clashes over the Iraq war.The world #39;s chief climate scientist on Tuesday disputed the US government contention that cutbacks in carbon dioxide emissions are not yet warranted to check global warming.SUDAN and its rebel enemies yesterday signed two  quot;landmark quot; peace deals to try to bring stability to the region of Darfur amid United Nations warnings that the humanitarian situation was getting worse.SAN SALVADOR -- Juan Nerio, a 44-year-old mason\\'s assistant, was sick of living in a mud hut on the side of a volcano. When he heard that an American company was offering six times his \\\\$200 monthly wage, he signed up. Six weeks later he found himself holding an AK-47 assault rifle and guarding a US diplomatic complex in Iraq.AP - The man who brought the Yugo and Subaru to this country has a new project  #151; becoming the first mass importer of low-cost Chinese-made cars.Georgia said on Friday its troops had withdrawn after seizing strategic ground in a rebel territory, in a move sure to be welcomed by Washington alarmed at a drift toward war in an economically vital region.KUALA LUMPUR: Malaysia #39;s former deputy premier Anwar Ibrahim has no plans to rejoin the all-powerful ruling party after his surprise release from jail this month, the official Bernama news agency said yesterday.PARIS -- An explosion struck the Indonesian Embassy in Paris today, slightly injuring nine people, a French radio station reported.The dramatic surge in support for a neo-Nazi party and reformed communists in weekend state polls marks a voter drift to the extreme political fringes, an ominous trend just two weeks  SEOUL (Reuters) - South Korean President Roh Moo-hyun  called newly re-elected President Bush and won his agreement  that ending the nuclear crisis involving the isolated communist  North should be a goal of his second term in office.Reuters - The United Nations is sending\\\\extra peacekeepers to Congo\\'s North Kivu province, which will\\\\improve security in the area after Rwanda threatened to carry\\\\out a strike against rebels operating on Congolese soil, a U.N.\\\\spokesman said on Wednesday.NEW YORK - A federal judge ordered Martha Stewart on Tuesday to surrender for prison by Oct. 8, granting the celebrity homemaker\\'s request to begin serving her sentence for lying about a stock sale...VATICAN CITY - Pope John Paul II on Sunday moved five Catholics closer to sainthood, including Austria\\'s last reigning emperor and a German nun whose graphic visions of Christ\\'s suffering helped inspire the blockbuster movie \"The Passion of the Christ.\"   Cheers went up in St. Peter\\'s Square from a crowd of about 30,000 people when the pontiff finished reading the Latin words with which he beatified the five candidates, and banners with their images were unfurled on the facade of St...NEW YORK - Stocks pushed higher Wednesday as investors digested a jump in the second-quarter gross domestic product and kept a close eye on oil prices that started to fall under \\\\$50 per barrel.    Investors saw the Commerce Department report, which said the nation\\'s GDP grew 3.3 percent from April to June, as fairly good news, with a few caveats...British Prime Minister Tony Blair #39;s government yesterday rejected claims from opposition lawmakers that a redeployment of British troops in Iraq would be a political show of support for the administration of US President George W. Bush before presidential The South Korean military is trying to find out whether North Korean agents might have infiltrated the country after the discovery early Tuesday of a hole cut in a fence on the southern edge of the demilitarized zone separating WASHINGTON, Aug. 19 (Xinhuanet) -- The White House on Thursday paid tribute to United Nations envoy Sergio Vieira de Mello who was killed in the bombing of the UN headquarters in Baghdad one year ago. Countries like Brazil are shunning Microsoft\\'s proprietary software in favor of open source Linux.AP - European Union officials kept up pressure Tuesday on the United States to curb its deficits to help bolster the sagging dollar amid fears a strengthening euro would stifle Europe\\'s fledgling economic recovery. GAZA (Reuters) - A Palestinian mortar bomb slammed into a  house in a Jewish settlement in the Gaza Strip on Friday,  killing a woman and fueling settler anger over Prime Minister  Ariel Sharon\\'s plan to pull Israelis out of the area.MOSUL: The bodies of six young men, all shot in the head as if executed, were discovered in the northern Iraqi city of Mosul on Tuesday, bringing the total of such corpses found to 14 in two days.AP - Mayor Robert Pastrick will not finish his ninth term in office after conceding defeat in a court-mandated special Democratic primary ordered because of corruption allegations.Iceland has agreed to offer asylum to Bobby Fischer, the former chess champion who is being held in a Japanese jail while fighting extradition to the United States.SAMARRA, Iraq -- Iraqi security forces are patrolling the Sunni Triangle city of Samarra after US and Iraqi soldiers claimed victory in retaking the city from insurgent forces.NEW YORK - The baby mama drama just won\\'t stop for P. Diddy...Reuters - France said on Saturday it hoped Islamic\\\\militants were about to free two French hostages, but urged\\\\caution as fresh violence erupted in Iraq.Hungary #39;s prime minister said yesterday that the country #39;s 300 troops stationed in Iraq will return home by the end of March.Israeli Prime Minister Ariel Sharon has approached the opposition Labor party with a tentative offer to join his coalition in hopes of avoiding early elections and saving his Gaza withdrawal plan.Reuters - U.N. Secretary-General Kofi\\\\Annan named a five-member panel on Thursday led by Italian\\\\judge Antonio Cassese to investigate whether genocide has taken\\\\place in Sudan\\'s Darfur region. PATTANI, Thailand (Reuters) - Bomb blasts rocked southern  Thailand Friday as Prime Minister Thaksin Shinawatra told  southern Muslim leaders the deaths of 85 protesters in military  custody should have never happened.NARATHIWAT, Thailand - A powerful bomb hidden in a motorcycle killed one person and wounded 30 in Thailands mainly Muslim south on Thursday, a day ahead of Prime Minister Thaksin Shinawatras visit to the restive region.Up to 30,000 irreplaceable books were destroyed in a fire Thursday night at one of Germany #39;s most historic libraries, although thousands more were spirited to safety by a chain of people.The Supreme Court agreed Friday to decide whether the federal courts must give a hearing to a Mexican inmate on Texas\\'s death row who says the state violated international law by trying him on murder charges without first notifying Mexican diplomats who might have helped him.Opposition activists have brought many towns and cities in Bangladesh to a halt, the day after 18 people died in explosions at a political rally.Prime Minister Ariel Sharon has approached the opposition Labour Party with a tentative offer to join his shaky coalition, in hopes of avoiding early elections and saving his Gaza withdrawal plan.Nearly 9,000 rural farmworkers and landless peasants marched in the nation\\'s capital Thursday, seeking major land reform legislation, the official Agencia Brasil news agency said. UNITED NATIONS/KHARTOUM, Sudan (Reuters) - The United  States piled pressure on Sudan Wednesday to accept a more  powerful monitoring force in Darfur with a new U.N. draft  resolution threatening sanctions on its oil industry.Reuters - U.S. shares are set to open higher on\\\\Friday, buoyed by Intel Corp.  after the world\\'s\\\\largest chip maker raised its quarterly revenue target due to\\\\strong demand, but all eyes will be on jobs data before the\\\\opening.North Korea isn #39;t on the verge of test-firing a ballistic missile, Japanese Foreign Minister Yoriko Kawaguchi said, while expressing concern that the government in Pyongyang hasn #39;t A top Russian general yesterday warned the military will strike  quot;terrorist bases in any region of the world, quot; while authorities offered a reward equivalent to \\\\$13.AP - A packed calendar awaits President Bush after his vacation in Texas: filling a gaping hole in his Cabinet, preparing his inaugural and State of the Union speeches, finalizing a new budget, keeping close watch on the upcoming elections in Iraq and promoting his second-term agenda.At least 16 Israelis were killed Tuesday and almost 100 injured when two Palestinians aboard buses blew themselves up within seconds of each other. BRUSSELS (Reuters) - Turkish Prime Minister Tayyip Erdogan  urged the European Union on Thursday to open its doors to  non-Christians after French President Jacques Chirac made a  vibrant appeal to bring Turkey into the EU.WASHINGTON - Addressing questions that have lingered for years, newly unearthed memos state that George W. Bush failed to meet standards of the Texas Air National Guard during the Vietnam war, that he refused a direct order and that his superiors were in a state of turmoil over how to evaluate his performance after he was suspended from flying...AP - Armed men wounded one police officer at a refugee camp polling site in Pakistan, just hours before the Afghan refugees were to vote in their country\\'s presidential election, police said Saturday.A leading Sri Lankan opposition politician is given a prison sentence for defaming the supreme court.MIHAIL KOGALNICEANU AIR BASE, Romania - To entice the US military to make a home here, what better symbolic appeal could the Romanian government make than to rename a street here  quot;George Washington Boulevard?Chinese troops have cordoned off villages in central China following fighting between ethnic groups that killed at least seven people.Italy has come under fire for sending would-be asylum seekers back to Libya without granting them time to apply for refugee status.A series of bombings ripped through three banks Wednesday in downtown Buenos Aires killing one security guard and injuring a member of the bomb squad.Police drove through a Darfur camp for displaced people on Wednesday, smashing makeshift homes with their trucks, a UN spokesman and Amnesty International said.AP - Goats nibble on rotting vegetables, barefoot children scavenge through garbage and women in black robes scuttle over slivers of pavement to avoid raw sewage floating down the street. As U.S. soldiers pass by, the bustle continues uninterrupted.Nine Chinese miners have been killed and 57 trapped underground after fire swept through a series of iron mines in the northern province of Hebei, Xinhua news agency has reported.Reuters - Democratic Sen. John Kerry stressed\\\\his faith and values during a visit to the critical state of\\\\Florida on Sunday, while President Bush scoured New Mexico for\\\\votes and said it was \"up in the air\" if the United States\\\\could ever be safe from terrorism.David Beckham\\'s spectacular strike seals a comfortable 2-0 victory for England at Old Trafford.TONY EASTLEY: Israel has revealed that in the four years of the Palestinian uprising, or Intifada, it #39;s arrested 13 Palestinians who work for the UN, on suspicion of  quot;terrorist activities.Reuters - The body of an Egyptian who was\\\\kidnapped in Iraq last month has been found in northern Iraq,\\\\Iraqi police said on Sunday.JERUSALEM Sept. 10, 2004 - Settler leaders accused Prime Minister Ariel Sharon on Friday of bringing the country to the brink of civil war with his plans to evacuate Jewish settlements.A bandit who killed more than 100 people and kidnapped a film star has been shot dead by police in India. Koose Muniswamy Veerappan, who some considered a Robin Hood for his distribution of money, died in a gun fight on his way to the doctors.AFP - With more than half the ballots in Afghanistan\\'s presidential election counted and outright triumph virtually assured for incumbent Hamid Karzai, attention turned to when the winner can be declared and how the losers will react.Reuters - A much-anticipated first meeting\\\\between South Asia\\'s rivals, Pakistan President Pervez\\\\Musharraf and Indian Prime Minister Manmohan Singh, will be\\\\held on Sept. 24 in New York, a Pakistani official said on\\\\Monday.Two top CIA officers quit amid reported disputes with the recently-appointed boss of the US spying agency.Motorists suffer daily traffic jams because the Highways Agency has been slow in tackling the problem, a report says.Los Angeles Times - WASHINGTON  #8212; House Republicans on Monday reversed a decision, made less than two months ago, that would have allowed Majority Leader Tom DeLay of Texas to remain in his leadership post if he was indicted by a grand jury in his home state.AP - Shirley Chisholm, the first black woman elected to Congress and an outspoken advocate for women and minorities during seven terms in the House, died Saturday near Daytona Beach, friends said. She was 80.The US is working with China and other nations to hold another round of talks with North Korea on dismantling the communist country #39;s nuclear program, the State Department said.MANILA: Over 900 people were dead or missing after a storm triggered landslides and floods in the Philippines this week, rescuers announced on Thursday as a new and even more powerful typhoon approached the main island of Luzon.AP - A bomb ripped through a U.S. patrol in southern Afghanistan on Wednesday, killing two American soldiers and wounding another, a reminder of the country\\'s insecurity after a newly resolved hostage drama.Former Secretary of State Henry Kissinger suggested punishing subordinates who criticized military dictatorships in Chile and Argentina in the 1970s, declassified documents show.The United Nations (UN) Security Council passed a resolution yesterday (September 18) that proposes implementing oil sanctions on Sudan if the government fails to end the crisis in its Darfur region.AP - The Iraqi Red Crescent has established a relief center in Fallujah, Iraq, but continued fighting between U.S.-led forces and insurgents makes it impossible for doctors and nurses to move around and treat the wounded, the international Red Cross said Monday.The world\\'s economy should grow at its fastest rate in 30 years in 2004, despite rising oil prices, the IMF says.AP - The State Department on Tuesday relaxed departure rules for nonessential U.S. Embassy employees and their families in Nepal but reiterated its advice for Americans to defer travel to the Himalayan country.A former advisor to the South Africa\\'s deputy president pleads not guilty to charges of fraud and corruption.British troops are likely to be deployed outside southern Iraq for the first time in support of US troops in some of the worst trouble spots in the country, including Baghdad, it emerged last night.Venezuela\\'s electoral officials say an audit of the vote on President Hugo Chavez\\'s rule shows it was fair.A United Nations deadline is set to expire on Monday for the Sudanese authorities to improve security in the troubled Darfur region.Michael Jackson\\'s Neverland manager claims police wanted to search areas unspecified by their warrant.Turkey #39;s prime minister expressed confidence that the European Union #39;s executive will recommend opening talks for his Muslim-majority country #39;s membership this week, saying Sunday that admitting Turkey to the union would contribute to  quot;reconciliation  AMMAN (Reuters) - A French jet left Amman on Friday taking  ailing Palestinian leader Yasser Arafat for treatment in Paris,  witnesses said.The British Cayman Islands are preparing for the arrival of Hurricane Ivan after it devastated Jamaica, claiming at least 14 lives.: French troops fired into the air today to disperse protesters gathered to protect President Laurent Gbagbo, as unrest swept Ivory Coasts main city Abidjan after weekend clashes between French and Ivorian forces.A baby believed to have been cut from her murdered mother\\'s womb is found alive in the US.Their work focused on understanding the forces that bind together the smallest pieces of matter, known as quarks.Reuters - A Moroccan soldier has been released\\\\five days after he was kidnapped while serving in a UnitedWASHINGTON - A plane bound for Washington from London was diverted to Maine on Tuesday after passenger Yusuf Islam - formerly known as pop singer Cat Stevens - showed up on a U.S. watch list, federal officials said...AFP - Three years of fighting between rival Christian and Muslim ethnic groups in the central Nigerian state of Plateau has claimed 53,787 lives, a third of them children, the state administration said.Under pressure from Washington, Tehran acquiesced November 28 to demands by the French, German, and British governments that it halt all activities related to the enrichment of uranium.DUBAIAn Islamist group claimed yesterday to have killed two Italian women taken hostage in Iraq, as a separate militant group released a video apparently showing the beheading of a captive American man.Indonesians cast their ballots today in the country #39;s first democratic presidential election. The vote will cap months of polls and finally consign decades of dictatorship to history.A spokesman for Iraq #39;s interim government has rejected calls, mainly by Sunni and Kurdish groups, to postpone the country #39;s first national elections.AP - A crowd angry about recent child kidnappings cornered plainclothes federal agents taking photos of students at a school on Mexico City\\'s outskirts and burned the officers alive, the latest example of mob justice in a country beset by corrupt police and high crime.Volatile and remote areas outside the Sunni triangle are now being scoured by US and Iraqi troops.In the final talks of negotiations between the Anglo-Irish drive for a peaceful Northern Ireland the IRA guerrillas said on Thursday that they would never be humiliated by photographing their actual disarmaments.Japan issued a deportation order on Tuesday against former world chess champion Bobby Fischer, who is wanted in the United States for defying sanctions, but his lawyer immediately filed an appeal, blocking the move.Rockets struck a Baghdad hotel housing foreign contractors and journalists late Thursday, drawing return fire and underscoring the precarious security in the heart of the Iraqi capital. PORT BLAIR, India (Reuters) - Tempers flared over the  sluggish pace of aid efforts in India\\'s remote and restricted  Andamans and Nicobars on Sunday as hundreds of bodies lay  scattered around the islands a week after the tsunami struck.AMMAN, Jordan Iraq has a fledgling economy, an infant democracy, and now -- an up-and-running airline. Iraqi Airways has resumed international flights for the first time in 14 years.Reuters - Fast bowler Makhaya Ntini grabbed three wickets to help bowl out India for 466 and give South Africa a 44-run first innings lead on the final day of the first test on Wednesday.In just his fifth college game, Adrian Peterson ran for 225 yards and made many big plays when No. 2 Oklahoma needed it most.Prime Minister Tony Blair was warned by top government officials, including his foreign secretary, a year before invading Iraq that chaos could follow the war, the Daily Telegraph says.Russian police claimed yesterday that one of the country #39;s most brutal and enigmatic contract killings - the drive-by shooting of the American journalist Paul Klebnikov in July - had Prince Bernhard, one of the most charismatic members of the Dutch royal family, dies at the age of 93.WASHINGTON -- A journalism professor sued the government yesterday to force the Defense Department to release pictures of the flag-draped coffins of soldiers arriving in the United States from wars overseas.Insurgent attacks against US and Iraqi troops continued Wednesday west of Baghdad in the rebel stronghold known as the Sunni Triangle.AFP - Philippine President Gloria Arroyo\\'s government has issued a fresh warning to Filipino job-seekers trying to fly to Iraq despite a government ban.Reuters - Whoever built Stonehenge,\\\\the 5,000-year-old circle of megaliths that towers over green\\\\fields in southern England and lures a million visitors a year,\\\\couldn\\'t have planned for the automobile.Palestinian prisoners in Israeli jails on Thursday have effectively ended an 18-day-old hunger strike after most of their demands for better conditions were met, a Palestinian cabinet minister said.AFP - President George W. Bush signed a law to promote human rights in nuclear-armed North Korea and provide humanitarian aid to citizens and refugees of the Stalinist state, as well as making them eligible for asylum in the United States.FALLUJAH, Iraq (AFP) - Rebels battled for their lives in Fallujah as US troops closed in for the kill, while 10 people died in a Baghdad car bomb and two US helicopters were forced to land under a hail of bullets.Suicide bombers have killed 20 members of Iraq #39;s fledgling security forces near a US marine base west of Baghdad and at a checkpoint to the north amid a spate of insurgent attacks across the country.Canadian Press - OTTAWA (CP) - Paul Martin knew it wouldn\\'t be easy to explain the sponsorship scandal to Canadian voters.Nigerian workers will go on strike protesting recent 25 percent increase of petroleum products from Nov. 16, a leading trade unionist said here Sunday.In addition to relieving Mexico City #39;s top cop Marcelo Ebrard of his duties, the president also let go Jos Luis Figueroa, director of the Federal Preventative Police.AFP - Legendary manager Brian Clough, who led unfashionable Nottingham Forest to two European Cup titles, has died of stomach cancer aged 69.AP - Insurgents hammered central Baghdad on Sunday with one of their most intense mortar and rocket barrages ever in the heart of the capital, heralding a day of violence that killed nearly 60 people nationwide as security appeared to spiral out of control.Malaysia #39;s former Deputy Prime Minister Anwar Ibrahim is expected to find out on Wednesday whether he can return immediately to active politics.A group of 44 people, at least some of them North Koreans, entered the Canadian Embassy yesterday, using ladders to scale a spiked fence in what appeared to be one of the biggest recent asylum bids by refugees from the North.Changes in North Korea\\'s economy have led to spiralling food prices many people cannot afford, the UN says.Canadian Press - EDMONTON (CP) - Alberta will not hold a public inquiry into allegations that voting fraud took place during Calgary\\'s civic election in October.Paul Bigley, brother of the hostage Ken Bigley, said yesterday that a third visit had been made to his home in Amsterdam by a Metropolitan police officer and Dutch anti-terrorist police.VIENTIANE - China and 10 South-east Asian countries signed historic trade pacts to pave the way for the world #39;s biggest free-trade zone by 2010, with a total population of nearly two billion people.Arguments over who gets to use the home computer are breaking out in families across the UK, says a survey.Australia #39;s ruling conservative coalition has promised to maintain its commitment to the war on terror. At the party #39;s official campaign launch in Brisbane, the Prime Minister, John Howard, said POLICE were yesterday granted more time to question four men arrested on suspicion of terrorism following a tip off from a Sunday newspaper.A total of 17 people were killed when a car bomb detonated in a crowded street in central Baghdad on Thursday, the police said. A thick column of black smoke rose into the sky A mortar round hits the roof of the US embassy in Baghdad, slightly injuring two emplyees,  a spokesman says.When Prime Minister Paul Martin travels to Haiti on Sunday, his arrival is expected to be welcomed by a rare gathering leaders from opposite ends of the island nation #39;s political spectrum.Congo-based Rwandan rebels, under threat of imminent attack by Rwanda, repeated an allegation Tuesday that Rwandan troops had crossed the border in recent days to seize the vast country #39;s mineral-rich east.Experts on Islamic militant groups are skeptical about a Web posting demanding \\\\$5 million in ransom for two French journalists held hostage in Iraq, France #39;s prime minister said Monday.NEW YORK - Defense Secretary Donald Rumsfeld said Monday he does not expect civil war in Iraq and pointed to the recent retaking of the former insurgent stronghold of Samarra as evidence of progress in stabilizing the country before elections in January.   \"I don\\'t think it\\'s going to happen,\" Rumsfeld told the Council on Foreign Relations when asked about the threat of civil war...AP - Ronald Reagan\\'s image will appear on a commemorative postage stamp to be issued early next year, Postal Service officials announced Wednesday.STUART, Fla. - Hurricane Frances pounded Florida with high wind and heavy rain Sunday after it smashed across the state\\'s east coast, knocking out power to 4 million people and forcing residents to withstand a prolonged lashing that shredded roofs and uprooted trees...AP - A French Finance ministry spokesman said the Paris Club of creditor nations had reached deal Sunday to write off 80 percent of the debts Iraq owes them.French forces destroy two Ivorian planes on the ground after an air strike kills eight French peacekeepers.The siege of Fallujah began with an expectation of weeks, if not months, of heavy fighting and worries about how that would influence A series of bombs have exploded at an opposition rally in Bangladesh #39;s capital, killing at least 14 people and injuring hundreds, witnesses and news reports have said.Nepal #39;s Maoist rebels opened fire and set off bombs at a government office in Kathmandu Friday, the third day of a blockade of the capital by Maoist rebels. The smaller of Colombia\\'s two leftist rebel groups offered Tuesday to meet with a Mexican mediator to discuss possible peace talks with the government and reiterated its call for a bilateral cease-fire.AFP - Australia will appeal directly to Singapore\\'s president to spare the life of a Vietnamese-Australian facing execution for smuggling heroin into the city-state, Foreign Minister Alexander Downer said.Palestinian leaders said Monday they had asked for a full report on Yasser Arafat #39;s death in a Paris hospital last week, challenging French laws under which his widow has maintained a veil of secrecy.The Consular Office of the South Korean Embassy in Beijing decided on October 25 to consider halting general consular services, owing to a recent flow of North Korean defectors crossing into China and overpopulating the consulates temporary housing The IRA have been warned by Democratic Unionist leader the Rev Ian Paisley that  quot;it #39;s now or never quot; to do a deal on power sharing with his party.Sudan #39;s government and southern rebels promised on Thursday to complete a peace accord as soon as possible to end a 21-year-old civil war and resolve reconciliation efforts dogged by innumerable delays.Russian President Vladimir Putin has recently said the double standards in dealing with terrorism are  quot;disastrous for global security  quot; and  quot;the indulgent and THE suspected leader of Basque terror group ETA #39;s political wing was arrested in France yesterday. Mikel Iriarte, 43, had been on the run since 1993.A MAN believed to be Osama bin Laden, speaking on a tape, urged his fighters to focus attacks on oil sites in the Gulf and Iraq and hailed the terrorists who attacked a US consulate in Saudi Arabia.Tokyo - US army deserter Charles Jenkins, who spent nearly four decades in North Korea, finally saw freedom on Tuesday as he left a US base with his Japanese wife for a new home on a small island north of Tokyo.The prosecution in the Schabir Shaik trial will add another accused to its list of 10 on Wednesday, the Durban High Court heard today.BASRA, Iraq - A bomb exploded Saturday outside a former Saddam Hussein-era palace that houses a U.S. consular office, killing at least one person and wounding two others, police and witnesses said...AFP - European Union foreign policy chief Javier Solana flew into the Sudanese capital where he was expected to discuss the conflict in Darfur, amid international pressure on Khartoum over the rebellion there.Darfur rebels and the Sudanese government ended peace talks on Sunday in Nigeria in a deadlock on how to address what the United Nations has called the world #39;s worst humanitarian crisis.The head of Britain #39;s security services has called on business to play a greater role in combating the threat of terrorism. Eliza Manningham-Buller, the Reuters - Police arrested a man in central England\\\\on Thursday under anti-terrorism laws.A policeman ran amok at a security camp in Indian-controlled Kashmir after an argument and shot dead seven colleagues before he was gunned down, police said on Sunday.AP - Democratic presidential candidate John Kerry says President Bush was wrong when he suggested that victory against terrorism might be impossible, declaring that he has a plan to defeat those who threaten the United States.The US military says marines in Fallujah shot and killed an insurgent who engaged them as he was faking being dead, a week after footage of a marine killing an apparently unarmed and wounded Iraqi caused a stir in the region.AP - An American on trial for allegedly torturing Afghan terror suspects in a private jail claimed Saturday in his first interview from custody that he was hot on the heels of Osama bin Laden and other militant leaders when he was arrested on July 5.British judges in London Tuesday ordered radical Muslim imam Abu Hamza to stand trial for soliciting murder and inciting racial hatred.AFP - Locked in a bitter battle for the US presidency, incumbent President George W. Bush and challenger John Kerry have all but ignored one of the most pressing foreign policy issues of the day: the ongoing conflict between Israel and the Palestinians.Typhoon Meari swept across Japan Thursday, leaving 16 people dead and 12 missing in the country #39;s worst storm of the year. Casualties were especially high in four prefectures VIENNA -- Brazil has tentatively agreed to let the UN atomic agency view parts of its equipment used to enrich uranium -- a deal that would end squabbling over access to technology that can be used to build nuclear weapons, diplomats said Wednesday.The Roman Catholic Diocese of Orange County, Calif., has reached a settlement with 87 victims of abuse by priests and lay employees that includes the largest payment ever agreed to by the church. GAZA (Reuters) - The Palestinian Authority on Friday  rejected Israeli Prime Minister Ariel Sharon\\'s new and  seemingly softer terms for restarting peace talks, saying he  should drop all conditions for dialogue.One death was reported as Hurricane Frances hit some of the same stops that Hurricane Charley visited three weeks ago.The UN chief says Syria has not complied with a Security Council resolution by withdrawing troops from its neighbour, Lebanon.GUWAHATI: Nine bodies were recovered in Assam #39;s Goalpara district on Sunday morning taking the death toll in the current flash floods in the state to 70, official sources said.KUALA LUMPUR: Foreign Minister Datuk Seri Syed Hamid Albar said Malaysia is closely monitoring the Darfur crisis and the United Nations (UN) Security Councils threat to impose sanctions on Sudans vital oil industry.Admirers from near and far gathered in Congressional Cemetery Saturday to mark the 150th birthday of march king John Philip Sousa. BRUSSELS (Reuters) - Human rights defenders face arrest and  torture in China, and the European Union should raise the issue  at a summit with Beijing\\'s leaders this week, Amnesty  International said in a new report Monday.Interior Ministry officials had earlier said the blast on Tuesday was caused by a car bomb. At least five cars were ... BERLIN (Reuters) - Fourteen years and a trillion euros  after reunification one in five Germans would like to see the  barrier that split the country during the Cold War put back, a  survey found Wednesday.BAGHDAD - The decapitated body of 24-year-old Japanese backpacker Shosei Koda was left discarded in a field near what is known as a stronghold of anti-American insurgent forces in central Baghdad Saturday night, according to local police.Porter J. Goss said that rebuilding the C.I.A. would take more than five years and that spies must take more risks.Pitcairn Island selects its first woman mayor in its 214-year history after its former mayor - a convicted rapist - was sacked last week.AP - Insurgents in Nigeria\\'s southern Niger Delta will begin an armed struggle to wrest control of the region\\'s oil riches from the federal government starting Oct. 1, a rebel spokesman said Tuesday.Hurricane Ivan has been pounding Jamaica with high winds and torrents of rain, causing flooding and power outages throughout the Caribbean island nation.The US says many of the prisoners it is holding in Afghanistan will stand trial under Afghan law. LONDON (Reuters) - Last year\\'s U.S.-led invasion of Iraq  and ousting of President Saddam Hussein has made the world more  dangerous, French President Jacques Chirac said on the eve of a  state visit to key U.S. ally Britain.Police in the UK charge eight men with terror offences, including conspiracy to murder.An Australian opinion poll has indicated a rise in support for the governing coalition led by Prime Minister John Howard. But two days in to the six-week election campaign the main opposition Labor Party headed Another sweeping re-election win by Tunisia #39;s long-time president is a slap in the face for democratic reforms and political change in a country run with an iron fist, critics said on Monday.BAGHDAD, Iraq - Guerrillas bombed a Baghdad shopping street full of police recruits and fired on a police van north of the capital Tuesday in attacks that killed at least 59 people and struck at the heart of the U.S. strategy for fighting Iraq\\'s escalating insurgency...#NAME?Mumbai, Aug 28 - The situation in both Jalna and Poorna towns in Central Maharashtra, that witnessed violence in the aftermath of explosions at places of worship leaving 18 persons injured, was peaceful and under control today, police said.AP - A Navy report filed five days after a disputed incident in Vietnam supports John Kerry\\'s version and contradicts critics who say the Democratic presidential nominee never came under enemy gunfire when he won two medals.AP - Israel should stop building its West Bank separation barrier if Palestinian militants halt attacks, Israel\\'s president was quoted as saying Thursday, in the most high-profile criticism yet of the contentious project.The women of remote Pitcairn Island in the South Pacific are proud they started having sex at 12 years of age and believe rape and sex assault charges against their men is an attempt by London to close their island home.Ex-Yugoslav leader Slobodan Milosevic could be forced to accept a defence lawyer on Tuesday as his trial reopens.Japan unexpectedly cut its estimate for second-quarter economic growth to a 1.3 percent annual pace, the slowest in more than a year, as manufacturers slashed inventories.ATLANTA - Delta Air Lines will cut up to 7,000 jobs, reduce wages and pull back at its Dallas-Fort Worth airport hub as part of a sweeping restructuring plan that could still leave it vulnerable to bankruptcy.    The job cuts representing about 10 percent of its overall work force will come over the next 18 months, Delta chief executive Gerald Grinstein said Wednesday during a meeting with 300 of the company\\'s middle managers...Iran says it will take part in a US-sponsored conference on election plans for Iraq due to be held in Cairo next month.Margaret Spellings has been a close adviser to President Bush since his days as Texas governor.Consolidated Edison has agreed to pay the family of a woman who was electrocuted on a city street more than \\\\$6.2 million and to set up a \\\\$1 million scholarship fund in her name.ABUJA, 31 October 2004 - Sudanese government delegates and Darfur rebels failed to reach agreement early yesterday on a draft security protocol aimed at breaking a deadlock at peace negotiations in Nigeria.RIYADH, Saudi Arabia - Saudi Arabia\\'s highest religious authority has issued an edict barring the use of cell phones with built-in cameras, blaming them for \"spreading obscenity\" - a final resort after a ban on their sale and import to the kingdom failed to dent their popularity.    Camera cell phones have caught on fast throughout Asia, Europe and the Middle East, particularly in oil-rich Persian Gulf countries, prompting concerns about privacy in places where people undress, \"theft\" of reading materials at book stores and newsstands, and corporate espionage by employees...DUBLIN, Sept 29 (AFP) - An Olympic Airlines plane diverted to Ireland following a bomb alert, the second faced by the Greek carrier in four days, resumed its journey to New York Wednesday after no device was found on board, airport officials said.AP - The Associated Press-Ipsos poll on the presidential race is based on telephone interviews with 1,541 adults, including 1,273 registered voters and 944 likely voters, from all states except Alaska and Hawaii. The interviews were conducted Oct. 4-6 by Ipsos-Public Affairs.Prime Minister John Howard has ended the phoney election campaign, naming October 9 as the day he hopes to cement his place in history by winning a fourth consecutive term.AFP - Porsche, the German maker of luxury sports cars, wants to extend working hours and cut jobs, its chairman said in a newspaper interview at a time when other car makers in Germany are also drastically reducing their workforce in an attempt to drive down costs.President Hugo Chavez\\'s allies in Congress appointed 17 new justices to the supreme court Monday as opposition parties accused the leader of stacking the nation\\'s highest court with government-friendly magistrates.NEW DELHI : Indian Foreign Minister Natwar Singh said that the dispute over Kashmir was not a nuclear flashpoint and that there had been progress in recent talks with his Pakistani counterpart.Carbon monoxide prevents rescuers from reaching 141 men trapped after a deadly mine blast in central China.BESLAN, Russia Sept. 5, 2004 - Wails of mourning echoed through the streets of this southern Russian town on Sunday, and the region #39;s top police officer reportedly resigned in the wake of the school hostage AP - President Hosni Mubarak said reports of a deal with Israel were exaggerated and denied that the Egyptian ambassador would soon return to Tel Aviv, a leading newspaper reported Friday.&lt;p&gt;&lt;/p&gt;&lt;p&gt; By Pascal Fletcher&lt;/p&gt;&lt;p&gt; CARACAS, Venezuela (Reuters) - Venezuela on Sunday orderedforeign oil firms operating in its huge Orinoco heavy crudebelt to pay much higher taxes in what President Hugo Chavezcalled a drive to tighten sovereign control over petroleumresources.&lt;/p&gt;: Sudanese authorities accused an opposition party Saturday of plotting to abduct and kill more than three dozen senior government officials and blow up key sites in the capital, where the army was out in force.AP - President Vladimir Putin said Tuesday he could not imagine how Iraqi elections scheduled for Jan. 30 could be held under current conditions.A musical about the life and music of the late Johnny Cash called Ring of Fire is being created in the US.SAN JOSE, California - On the cusp of its voyage into public trading, Google\\'s initial stock price was set at \\\\$85 and its market value calculated at \\\\$23 billion - less than originally expected, but still impressive for a 6-year-old dot-com dreamed up in a garage.    The final initial public offering price, set through an unorthodox auction that alienated many on Wall Street, means the stock will likely debut Thursday under the symbol \"GOOG\" on the Nasdaq Stock Market...AP - President Bush claims John Kerry \"doesn\\'t even know where he stands\" on the war, while the Democrat accuses Bush of having \"no plan what to do\" in Iraq  #151; dueling television ads setting the stage for the candidates\\' Thursday night debate over foreign policy.An Israeli missile attack in Gaza City has killed a top official of the Palestinian militant organization, Islamic Jihad, and another member of the group.SEOUL : South Korea #39;s foreign minister indicated Friday that prospects had diminished for proposed six-way talks later this month to end North Korea #39;s nuclear weapons drive.A member of Hamas, the militant Palestinian organisation, survived an apparent assassination attempt yesterday when his car blew up in the Syrian capital, Damascus, a Palestinian source said.AP - The Supreme Court said Friday it would consider whether Internet providers should be allowed to sell their high-speed service over the cable television system.Reuters - Almost 15 years after McDonald\\'s brought a taste of America to impoverished\\\\Russians, a 37-year-old Muscovite has hit the firm with a U.S.-style lawsuit over a spilled cup of\\\\coffee, Russian media has reported.Suspected Maoist rebels today shot and wounded a policeman and detonated two powerful bombs in Kathmandu as the blockade of the Nepalese capital entered its third day. With the dollar hitting a third straight day of record lows against the euro, gold rose above \\\\$450 an ounce for the first time in more than 16 years.Malaysia #39;s most charismatic opposition figure Anwar Ibrahim _ released two months ago from jail _ kicked off his political comeback effort Sunday by vowing to restart a campaign for democratic reforms.Reuters - Millions of Afghans prepared for a\\\\historic poll on Saturday, which will give the mountainous\\\\Islamic nation on the ancient Silk Road its first elected\\\\president and perhaps end over a quarter century of war.Italy expressed appreciation over Syria #39;s efforts in combating terrorism, pointing to its important role in foiling a terrorist attack that was targeting the Italian and Western interests in Lebanon.AP - An Afghan court sentenced a man to death Saturday for the 2001 killing of three foreign journalists and an Afghan colleague who were pulled from their cars, robbed and shot as they rushed to cover the collapse of the Taliban.AP - A retired Texas National Guard official mentioned as a possible source for disputed documents about President Bush\\'s service in the Guard said he passed along information to a former senator working with John Kerry\\'s campaign.Reuters - Italy is likely to withdraw from the Kyoto\\\\Protocol on climate change at the end of the treaty\\'s initial\\\\period in 2012, Italy\\'s environment minister was reported as\\\\saying by Italian newspapers on Wednesday.WASHINGTON - The committee writing the Senate\\'s intelligence reorganization plan is recommending creation of a strong national intelligence director with spending power, while leaving the Pentagon in charge of some military spy agencies.    Sen...AFP - The United States urged North Korea to stop boasting about its nuclear weapons capability and return to the negotiating table to resolve the nuclear crisis in the Korean peninsula.American forces unleashed an air strike against a suspected insurgent hideout in Fallujah on Tuesday, the latest in a string of attacks aimed at associates of guerrilla leader Abu Musab al-Zarqawi.AMMAN: Jordan #39;s King Abdullah II has stripped his half-brother, Prince Hamzah, of his title as crown prince and heir to the Hashemite throne in an unexpected move that surprised many Jordanians.TEHRAN (AFP) -- Iran said the UN nuclear watchdog #39;s report Wednesday on Tehran #39;s atomic energy program was a positive step toward clearing up the country #39;s file and demonstrating the peaceful character of the program.JERUSALEM - Pop diva Madonna made a midnight pilgrimage to a Jerusalem cemetery early Sunday, holding a mystical candlelit ceremony at the grave of a Jewish sage.    The singer is in Israel on a five-day spiritual quest along with 2,000 other students of Kabbalah, or Jewish mysticism...Palestinian leader Yasser Arafat remained in a coma Saturday at a French military hospital as concerns heightened over possibilities for his burial and the future of Palestinian leadership.LONDON, Nov. 26. - Prince Harry arrived home from Argentina today amid media reports that shots were fired at the ranch where he was staying.East Timor celebrates the fifth anniversary of a historic vote to break away from Indonesia\\'s rule. Law enforcement officials said yesterday that they have broken up the largest known document fraud ring in Northern Virginia, charging 26 people in a scheme to sell identification to thousands of Indonesian immigrants nationwide.The US has provided airlifts and pledged \\\\$300 million to support African troops in western Sudan.AT least 18 people have died after drinking tainted homemade liquor in Pakistan #39;s eastern Punjab province. Two of the men were dead on arrival at Nishtar Hospital in Multan, and six others died in intensive AFP - Rockets rained on cities and military outposts across Afghanistan as the war-weary nation prepared to go to the polls in Saturday\\'s historic presidential elections. BEIJING (Reuters) - China on Wednesday rejected Secretary  of State Colin Powell\\'s call to resume dialogue with Taiwan,  saying Taiwan President Chen Shui-bian\\'s overtures were  meaningless and no grounds existed for talks.Iran is demanding the right to operate uranium enrichment equipment, despite its agreement with the Europeans.AP - The Hungarian parliament on Monday rejected a government proposal to extend the stay of 300 non-combat troops in Iraq by three months until March 31, 2005.Pakistan plans to invite foreign investors to operate its new port of Gwadar, an unusual step for a country that has attracted little foreign capital.AP - Rocker Bruce Springsteen is joining Sen. John Kerry in the final days of his bid to become the nation\\'s boss.Prince Harry, the younger son of Britain #39;s Prince Charles, returned home yesterday from a private stay in Argentina amid reports that he had cut his stay short after shots were fired not far from his lodgings.Reuters - Israeli helicopters fired missiles at a\\\\metal foundry in Gaza on Friday, one day after Israel raided\\\\two Gaza camps in response to Palestinian suicide bombings in\\\\Israel this week. BELGRADE (Reuters) - Serbia\\'s pro-reform Democratic Party  candidate won the powerful post of Belgrade mayor in the runoff  vote on Sunday, beating an ultra-nationalist rival, according  to a preliminary result by independent monitors.Canadian Press - WINNIPEG (CP) - A medium-security prison in Alberta has banned a Manitoba pedophile from social functions with the children of other inmates following the man\\'s admission that the events fuel his sexual fantasies.SIR Mark Thatcher was today waiting to find out when he will be questioned over his alleged involvement in an attempted coup in Equatorial Guinea.MOSCOW : A blast at a Siberian mine killed 13 men in the latest disaster to strike Russia #39;s accident-prone industry that has been chronically short of funds following the Soviet collapse.About 150 Iraqis, many of them recipients of humanitarian aid, rallied Monday in front of the Baghdad offices of CARE International to demand the release of aid worker Margaret Hassan.Iranian deputy foreign minister Gholamali Khoshrou denied Tuesday that his country #39;s top leaders were at odds over whether nuclear weapons were un-Islamic, insisting that it will  quot;never quot; make the bomb.Sir Mark Thatcher is waiting to find out when he will be questioned over his alleged involvement in an attempted coup in Equatorial Guinea.AP - In a quiet retreat, France on Monday eased off its call to include Iraqi groups that renounce violence in an international conference next month on ways to pacify their war-ravaged country.Gov. Arnold Schwarzenegger was scheduled to meet with Prime Minister Junichiro Koizumi today and with representatives of the auto and electronics industries through-.Canadian Press - FREDERICTON (CP) - The New Brunswick government says there was nothing it could do to prevent the abrupt closure of a major pulp mill in the province, short of buying the cash-strapped operation.A town in the mineral rich Katanga region of the Democratic Republic of Congo has fallen to a mysterious group of militants. Going by the name of the Liberation Movement for (GEORGE TOWN, Cayman Islands) - It appears Hurricane Ivan is turning toward the northwest -- with its wake, death and destruction.OTTAWA -- Canadian students have slipped in the rankings of an international test in reading, math and science, dropping out of the top five in math and science.An opposition group said Iran bought blueprints for a nuclear bomb and obtained weapons-grade uranium on the black market.'"
      ]
     },
     "execution_count": 14,
     "metadata": {},
     "output_type": "execute_result"
    }
   ],
   "source": []
  },
  {
   "cell_type": "code",
   "execution_count": 4,
   "metadata": {},
   "outputs": [
    {
     "data": {
      "text/plain": [
       "(1200, 3)"
      ]
     },
     "execution_count": 4,
     "metadata": {},
     "output_type": "execute_result"
    }
   ],
   "source": [
    "train.shape"
   ]
  },
  {
   "cell_type": "code",
   "execution_count": 5,
   "metadata": {},
   "outputs": [
    {
     "data": {
      "text/plain": [
       "(76, 3)"
      ]
     },
     "execution_count": 5,
     "metadata": {},
     "output_type": "execute_result"
    }
   ],
   "source": [
    "test.shape"
   ]
  },
  {
   "cell_type": "code",
   "execution_count": 4,
   "metadata": {},
   "outputs": [],
   "source": [
    "# train_arrays = np.array(train[['Description', 'Class Index']])\n",
    "test_arrays = np.array(test[['Description', 'Class Index']])\n",
    "# to_predict_arrays = np.array(test[['Description', 'Class Index']])"
   ]
  },
  {
   "cell_type": "code",
   "execution_count": 5,
   "metadata": {},
   "outputs": [],
   "source": [
    "# algo = KnnCompressor(compressor=gzip,\n",
    "#                      base_df=train,\n",
    "#                      to_predict_df=test)\n",
    "\n",
    "algo = CeCompressor(base_df=train,\n",
    "                    to_predict_df=test)"
   ]
  },
  {
   "cell_type": "code",
   "execution_count": 6,
   "metadata": {},
   "outputs": [],
   "source": [
    "algo.run(text_col='Description', target_col='Class Index')"
   ]
  },
  {
   "cell_type": "code",
   "execution_count": 7,
   "metadata": {},
   "outputs": [],
   "source": [
    "from sklearn.metrics import f1_score"
   ]
  },
  {
   "cell_type": "code",
   "execution_count": 8,
   "metadata": {},
   "outputs": [],
   "source": [
    "true = test_arrays[:, 1]"
   ]
  },
  {
   "cell_type": "code",
   "execution_count": 9,
   "metadata": {},
   "outputs": [],
   "source": [
    "# pred = algo.final_predict_result\n",
    "pred = algo.result_df['prediction']"
   ]
  },
  {
   "cell_type": "code",
   "execution_count": 10,
   "metadata": {},
   "outputs": [
    {
     "data": {
      "text/plain": [
       "0.11964188822571893"
      ]
     },
     "execution_count": 10,
     "metadata": {},
     "output_type": "execute_result"
    }
   ],
   "source": [
    "f1_score(list(true), pred, average='weighted')"
   ]
  },
  {
   "cell_type": "code",
   "execution_count": 13,
   "metadata": {},
   "outputs": [
    {
     "data": {
      "text/plain": [
       "10"
      ]
     },
     "execution_count": 13,
     "metadata": {},
     "output_type": "execute_result"
    }
   ],
   "source": [
    "import multiprocessing as mp\n",
    "import itertools\n",
    "cpu_count = mp.cpu_count()\n",
    "# pool = mp.Pool(mp.cpu_count())\n",
    "# some function\n",
    "\n",
    "# pool.close()\n",
    "cpu_count"
   ]
  },
  {
   "cell_type": "code",
   "execution_count": 14,
   "metadata": {},
   "outputs": [],
   "source": [
    "# a = ['foo', 'bar', 'baz']\n",
    "# b = ['x', 'y', 'z', 'w']\n",
    "\n",
    "a = test['Description'].values.tolist()\n",
    "b = train['Description'].values.tolist()\n",
    "\n",
    "text_list = [x for x in itertools.product(a, b)]"
   ]
  },
  {
   "cell_type": "code",
   "execution_count": 19,
   "metadata": {},
   "outputs": [
    {
     "data": {
      "text/plain": [
       "76"
      ]
     },
     "execution_count": 19,
     "metadata": {},
     "output_type": "execute_result"
    }
   ],
   "source": [
    "len(a)"
   ]
  },
  {
   "cell_type": "code",
   "execution_count": 29,
   "metadata": {},
   "outputs": [
    {
     "data": {
      "text/plain": [
       "76"
      ]
     },
     "execution_count": 29,
     "metadata": {},
     "output_type": "execute_result"
    }
   ],
   "source": [
    "lol = lambda lst, sz: [lst[i:i+sz] for i in range(0, len(lst), sz)]\n",
    "\n",
    "chunk = lol(distance, len(b))\n",
    "len(chunk)\n"
   ]
  },
  {
   "cell_type": "code",
   "execution_count": 30,
   "metadata": {},
   "outputs": [
    {
     "data": {
      "text/plain": [
       "1200"
      ]
     },
     "execution_count": 30,
     "metadata": {},
     "output_type": "execute_result"
    }
   ],
   "source": [
    "len(chunk[0])"
   ]
  },
  {
   "cell_type": "code",
   "execution_count": 47,
   "metadata": {},
   "outputs": [
    {
     "data": {
      "text/plain": [
       "2"
      ]
     },
     "execution_count": 47,
     "metadata": {},
     "output_type": "execute_result"
    }
   ],
   "source": [
    "from statistics import mode\n",
    "\n",
    "test1 = chunk[2]\n",
    "sorted_idx = np.argsort(np.array(test1))\n",
    "top_k_class = train.reset_index(drop=True).loc[sorted_idx[:5], 'Class Index']\n",
    "mode(top_k_class)"
   ]
  },
  {
   "cell_type": "code",
   "execution_count": 49,
   "metadata": {},
   "outputs": [],
   "source": [
    "# FINAL algorithm w/ multiprocessing \n",
    "\n",
    "# need to define target and text column\n",
    "\n",
    "text_col = '...'\n",
    "target_col = 'Class Index'\n",
    "\n",
    "a = test['Description'].values.tolist()\n",
    "b = train['Description'].values.tolist()\n",
    "\n",
    "text_list = [x for x in itertools.product(a, b)]\n",
    "\n",
    "preds = []\n",
    "chunking = lambda lst, sz: [lst[i:i+sz] for i in range(0, len(lst), sz)]\n",
    "distance = []\n",
    "pool = mp.Pool(mp.cpu_count())\n",
    "for d in pool.starmap(calculate_ncd_mp, text_list, chunksize=5):\n",
    "    distance.append(d)\n",
    "pool.close()\n",
    "\n",
    "chunks = chunking(distance, len(b))\n",
    "for i in range(len(chunks)):\n",
    "    sorted_idx = np.argsort(np.array(chunks[i]))\n",
    "    top_k_class = train.reset_index(drop=True).loc[sorted_idx[:5], target_col]\n",
    "    preds.append(mode(top_k_class))\n"
   ]
  },
  {
   "cell_type": "code",
   "execution_count": 16,
   "metadata": {},
   "outputs": [
    {
     "data": {
      "text/plain": [
       "91200"
      ]
     },
     "execution_count": 16,
     "metadata": {},
     "output_type": "execute_result"
    }
   ],
   "source": [
    "len(distance)"
   ]
  },
  {
   "cell_type": "code",
   "execution_count": 13,
   "metadata": {},
   "outputs": [
    {
     "data": {
      "text/plain": [
       "10"
      ]
     },
     "execution_count": 13,
     "metadata": {},
     "output_type": "execute_result"
    }
   ],
   "source": [
    "df_split = np.array_split(train, cpu_count)\n",
    "len(df_split)"
   ]
  }
 ],
 "metadata": {
  "kernelspec": {
   "display_name": ".venv",
   "language": "python",
   "name": "python3"
  },
  "language_info": {
   "codemirror_mode": {
    "name": "ipython",
    "version": 3
   },
   "file_extension": ".py",
   "mimetype": "text/x-python",
   "name": "python",
   "nbconvert_exporter": "python",
   "pygments_lexer": "ipython3",
   "version": "3.10.8"
  },
  "orig_nbformat": 4
 },
 "nbformat": 4,
 "nbformat_minor": 2
}
